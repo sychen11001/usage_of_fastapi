{
 "cells": [
  {
   "cell_type": "markdown",
   "id": "e1159166-450f-4f88-96bf-32fd59e55010",
   "metadata": {},
   "source": [
    "# 获取表单数据"
   ]
  },
  {
   "cell_type": "code",
   "execution_count": null,
   "id": "334565fc-bf97-4913-9452-602c24703897",
   "metadata": {},
   "outputs": [],
   "source": [
    "# 要使用表单，首先安装 python-multipart 。\n",
    "$ pip install python-multipart"
   ]
  },
  {
   "cell_type": "code",
   "execution_count": null,
   "id": "452b8c59-879a-4dcf-9189-717879c6a143",
   "metadata": {},
   "outputs": [],
   "source": [
    "# 导入 Form\n",
    "from fastapi import FastAPI, Form"
   ]
  },
  {
   "cell_type": "code",
   "execution_count": null,
   "id": "b70f1ee8-1051-471f-b0be-60a8f3d18e60",
   "metadata": {},
   "outputs": [],
   "source": [
    "# 定义 Form 参数\n",
    "# 要声明表单体，您需要使用 Form 显式地，因为如果没有它，参数将被解释为查询参数或正文（JSON）参数。\n",
    "@app.post(\"/login/\")\n",
    "async def login(username: Annotated[str, Form()], password: Annotated[str, Form()]):"
   ]
  },
  {
   "cell_type": "code",
   "execution_count": null,
   "id": "35119e01-90e6-4b4c-94e2-25ba65431579",
   "metadata": {},
   "outputs": [],
   "source": [
    "# 表单数据通常使用“媒体类型” application/x-www-form-urlencoded 进行编码。\n",
    "# 但当表单包含文件时，它会被编码为 multipart/form-data 。"
   ]
  },
  {
   "cell_type": "code",
   "execution_count": null,
   "id": "db192ffd-bac0-469b-a3b5-7f12b2750a67",
   "metadata": {},
   "outputs": [],
   "source": [
    "# Pydantic 模型用于表单\n",
    "# FastAPI 将从请求中的表单数据中提取每个字段的值，并返回你定义的 Pydantic 模型。\n",
    "class FormData(BaseModel):\n",
    "    username: str\n",
    "    password: str\n",
    "\n",
    "@app.post(\"/login/\")\n",
    "async def login(data: Annotated[FormData, Form()]):"
   ]
  },
  {
   "cell_type": "code",
   "execution_count": null,
   "id": "ee25acc1-be27-4090-9781-edcab9c86961",
   "metadata": {},
   "outputs": [],
   "source": [
    "# 禁止额外表单字段\n",
    "# 仅限制表单字段为 Pydantic 模型中声明的字段，并禁止任何额外字段。(自 FastAPI 版本 0.114.0 起支持)\n",
    "# 使用 Pydantic 的模型配置来 forbid 任何 extra 字段：\n",
    "class FormData(BaseModel):\n",
    "    username: str\n",
    "    password: str\n",
    "    model_config = {\"extra\": \"forbid\"}\n",
    "\n",
    "@app.post(\"/login/\")\n",
    "async def login(data: Annotated[FormData, Form()]):# 如果尝试发送一些额外数据，他们将收到一个错误响应。\n",
    "# 例如，如果尝试发送表单字段：\n",
    "# username: Rick\n",
    "# password: Portal Gun\n",
    "# extra: Mr. Poopybutthole\n",
    "# 他们将收到一个错误响应，告诉他们字段 extra 不允许"
   ]
  },
  {
   "cell_type": "markdown",
   "id": "7c617f7c-c882-455b-9fad-d250018b0916",
   "metadata": {},
   "source": [
    "# 文件上传"
   ]
  },
  {
   "cell_type": "code",
   "execution_count": null,
   "id": "44a943da-fd77-4d29-9cbe-95d2989fe057",
   "metadata": {},
   "outputs": [],
   "source": [
    "# 使用 File 、 bytes 和 UploadFile 声明请求中要上传的文件，将以表单数据的形式发送。"
   ]
  },
  {
   "cell_type": "code",
   "execution_count": null,
   "id": "4f08094a-b867-4732-9f14-fdf019ba678a",
   "metadata": {},
   "outputs": [],
   "source": [
    "# 要接收上传的文件，首先安装 python-multipart 。\n",
    "$ pip install python-multipart\n",
    "# 因为上传的文件以“表单数据”的形式发送。"
   ]
  },
  {
   "cell_type": "code",
   "execution_count": null,
   "id": "7d058e50-5cc9-45e4-a6f3-239e6e6597f2",
   "metadata": {},
   "outputs": [],
   "source": [
    "# 导入 File\n",
    "from fastapi import FastAPI, File, UploadFile"
   ]
  },
  {
   "cell_type": "code",
   "execution_count": null,
   "id": "9d2f4e70-df40-4b3b-b8c2-5a31cf463f5a",
   "metadata": {},
   "outputs": [],
   "source": [
    "# 定义 File 参数\n",
    "@app.post(\"/files/\")\n",
    "async def create_file(file: Annotated[bytes, File()]):\n",
    "# File 是一个直接继承自 Form 的类。\n",
    "# 要声明文件主体，需要使用 File ，因为否则参数将被解释为查询参数或主体（JSON）参数。\n",
    "# 这些文件将以“表单数据”的形式上传。# 如果你将路径操作函数参数的类型声明为 bytes ，FastAPI 将为你读取文件，并将内容作为 bytes 返回。\n",
    "# 请记住，这意味着整个内容将被存储在内存中。这对于小型文件来说效果很好。\n",
    "# 但是，在某些情况下，您可能会从使用 UploadFile 中受益。"
   ]
  },
  {
   "cell_type": "code",
   "execution_count": null,
   "id": "dc7dc54a-eb57-4fdf-850c-482590701901",
   "metadata": {},
   "outputs": [],
   "source": [
    "# 文件参数 UploadFile\n",
    "@app.post(\"/uploadfile/\")\n",
    "async def create_upload_file(file: UploadFile):\n",
    "# 使用 UploadFile 比 bytes 有几个优点：\n",
    "    # 您不需要在参数的默认值中使用 File() 。\n",
    "    # 它使用“分页”文件：\n",
    "        # 一个文件在内存中存储，直到达到最大大小限制，之后它将被存储在磁盘上。\n",
    "    # 这意味着它能够很好地处理大型文件，如图像、视频、大型二进制文件等，而不会消耗所有内存。\n",
    "    \n",
    "    # 你可以从上传的文件中获取元数据。\n",
    "    # 它有一个类似文件的 async 接口。\n",
    "    # 它暴露了一个实际的 Python SpooledTemporaryFile 对象，你可以直接将其传递给其他期望文件对象库。"
   ]
  },
  {
   "cell_type": "code",
   "execution_count": null,
   "id": "3ddff80f-c481-4c2d-97be-54ee35542e53",
   "metadata": {},
   "outputs": [],
   "source": [
    "# UploadFile类型\n",
    "\n",
    "# UploadFile 具有以下属性：\n",
    "    # filename : 一个带有原始文件名上传的文件（例如 myimage.jpg ）。\n",
    "    # content_type : 一个 str 带有内容类型（MIME 类型/媒体类型）（例如 image/jpeg ）。\n",
    "    # file : 一个 SpooledTemporaryFile （类似文件对象）。这是真正的 Python 文件对象，你可以直接将其传递给其他期望“类似文件”对象功能的函数或库。\n",
    "\n",
    "# UploadFile 有以下 async 方法。它们都调用相应的文件方法（使用内部 SpooledTemporaryFile ）。\n",
    "    # write(data) : 将 data ( str 或 bytes ) 写入文件。\n",
    "    # read(size) : 读取 size ( int ) 字节/字符的文件。\n",
    "    # seek(offset) : 跳转到文件中的字节位置 offset ( int )。\n",
    "        # 例如， await myfile.seek(0) 将跳转到文件开头。\n",
    "        # 这特别有用，如果你运行 await myfile.read() 一次，然后需要再次阅读内容。\n",
    "    # close() : 关闭文件。\n",
    "# 由于这些方法都是 async 方法，您需要等待它们。\n",
    "\n",
    "# FastAPI 的 UploadFile 直接继承自 Starlette 的 UploadFile ，但添加了必要的组件以使其与 Pydantic 和 FastAPI 的其他部分兼容。"
   ]
  },
  {
   "cell_type": "code",
   "execution_count": null,
   "id": "bf905b7b-aeb9-49e3-98c4-c7f827c723c0",
   "metadata": {},
   "outputs": [],
   "source": [
    "# 获取file内容\n",
    "# 在 async 路径操作函数内部，你可以通过以下方式获取内容：\n",
    "contents = await myfile.read()\n",
    "\n",
    "# 如果你处于一个正常的 def 路径操作函数内部，你可以直接访问 UploadFile.file ，例如：\n",
    "contents = myfile.file.read()"
   ]
  },
  {
   "cell_type": "code",
   "execution_count": null,
   "id": "190a13a2-0df2-4b64-9400-9a13036b8fca",
   "metadata": {},
   "outputs": [],
   "source": [
    "# 可选文件上传\n",
    "@app.post(\"/files/\")\n",
    "async def create_file(file: Annotated[bytes | None, File()] = None):\n",
    "\n",
    "@app.post(\"/uploadfile/\")\n",
    "async def create_upload_file(file: UploadFile | None = None):"
   ]
  },
  {
   "cell_type": "code",
   "execution_count": null,
   "id": "5b8d2385-044d-42b1-af82-52300e04d78b",
   "metadata": {},
   "outputs": [],
   "source": [
    "# 带有附加元数据的 UploadFile\n",
    "# 使用 File() 与 UploadFile 一起使用，例如，设置额外的元数据：\n",
    "@app.post(\"/files/\")\n",
    "async def create_file(file: Annotated[bytes, File(description=\"A file read as bytes\")]):\n",
    "\n",
    "@app.post(\"/uploadfile/\")\n",
    "async def create_upload_file(\n",
    "    file: Annotated[UploadFile, File(description=\"A file read as UploadFile\")],\n",
    "):"
   ]
  },
  {
   "cell_type": "code",
   "execution_count": null,
   "id": "255280af-2ce2-4e5e-8196-294ba987ce55",
   "metadata": {},
   "outputs": [],
   "source": [
    "# 多文件上传\n",
    "# 前端网页\n",
    "@app.get(\"/\")\n",
    "async def main():\n",
    "    content = \"\"\"\n",
    "<body>\n",
    "<form action=\"/files/\" enctype=\"multipart/form-data\" method=\"post\">\n",
    "<input name=\"files\" type=\"file\" multiple>\n",
    "<input type=\"submit\">\n",
    "</form>\n",
    "<form action=\"/uploadfiles/\" enctype=\"multipart/form-data\" method=\"post\">\n",
    "<input name=\"files\" type=\"file\" multiple>\n",
    "<input type=\"submit\">\n",
    "</form>\n",
    "</body>\n",
    "    \"\"\"\n",
    "    return HTMLResponse(content=content)\n",
    "\n",
    "# 后端服务\n",
    "@app.post(\"/files/\")\n",
    "async def create_files(files: Annotated[list[bytes], File()]):\n",
    "\n",
    "@app.post(\"/uploadfiles/\")\n",
    "async def create_upload_files(files: list[UploadFile]):\n",
    "\n",
    "# 前端接收\n",
    "# 获得 list 数量的 bytes 或 UploadFile 。"
   ]
  },
  {
   "cell_type": "code",
   "execution_count": null,
   "id": "be8118dc-342f-4944-8475-882ecd1592ea",
   "metadata": {},
   "outputs": [],
   "source": [
    "# 多文件上传及附加元数据\n",
    "\n",
    "# 前端网页\n",
    "@app.get(\"/\")\n",
    "async def main():\n",
    "    content = \"\"\"\n",
    "<body>\n",
    "<form action=\"/files/\" enctype=\"multipart/form-data\" method=\"post\">\n",
    "<input name=\"files\" type=\"file\" multiple>\n",
    "<input type=\"submit\">\n",
    "</form>\n",
    "<form action=\"/uploadfiles/\" enctype=\"multipart/form-data\" method=\"post\">\n",
    "<input name=\"files\" type=\"file\" multiple>\n",
    "<input type=\"submit\">\n",
    "</form>\n",
    "</body>\n",
    "    \"\"\"\n",
    "    return HTMLResponse(content=content)\n",
    "\n",
    "# 后端服务\n",
    "@app.post(\"/files/\")\n",
    "async def create_files(\n",
    "    files: Annotated[list[bytes], File(description=\"Multiple files as bytes\")],\n",
    "):\n",
    "    return {\"file_sizes\": [len(file) for file in files]}\n",
    "\n",
    "@app.post(\"/uploadfiles/\")\n",
    "async def create_upload_files(\n",
    "    files: Annotated[\n",
    "        list[UploadFile], File(description=\"Multiple files as UploadFile\")\n",
    "    ],\n",
    "):\n",
    "    return {\"filenames\": [file.filename for file in files]}"
   ]
  },
  {
   "cell_type": "markdown",
   "id": "d693d623-d71a-46ac-8991-1cb062e92f7e",
   "metadata": {},
   "source": [
    "# 同时请求表单数据和文件"
   ]
  },
  {
   "cell_type": "code",
   "execution_count": null,
   "id": "4c48f040-c195-4f55-9ff6-f1da80222abe",
   "metadata": {},
   "outputs": [],
   "source": [
    "# 你可以使用 File 和 Form 同时定义文件和表单字段。\n",
    "# 要接收上传的文件和/或表单数据，首先安装 python-multipart 。\n",
    "$ pip install python-multipart"
   ]
  },
  {
   "cell_type": "code",
   "execution_count": null,
   "id": "9947073f-9b67-4225-ab12-a9fcad6589a3",
   "metadata": {},
   "outputs": [],
   "source": [
    "# 导入 File 和 Form\n",
    "from fastapi import FastAPI, File, Form, UploadFile"
   ]
  },
  {
   "cell_type": "code",
   "execution_count": null,
   "id": "294a72c6-fb97-4906-939e-03e271da3aeb",
   "metadata": {},
   "outputs": [],
   "source": [
    "# 定义 File 和 Form 参数\n",
    "@app.post(\"/files/\")\n",
    "async def create_file(\n",
    "    file: Annotated[bytes, File()],\n",
    "    fileb: Annotated[UploadFile, File()],\n",
    "    token: Annotated[str, Form()],\n",
    "):\n",
    "\n",
    "# 其他版本和变种\n",
    "# 如果可能的话，更倾向于使用 Annotated 版本。\n",
    "# @app.post(\"/files/\")\n",
    "# async def create_file(\n",
    "#     file: bytes = File(), fileb: UploadFile = File(), token: str = Form()\n",
    "# ):\n",
    "\n",
    "# 这些文件和表单字段将被作为表单数据上传，您将收到这些文件和表单字段。"
   ]
  },
  {
   "cell_type": "code",
   "execution_count": null,
   "id": "1ca6530e-eaf7-4a5a-b8d4-1812fc37c75c",
   "metadata": {},
   "outputs": [],
   "source": [
    "# 你可以将一些文件声明为 bytes ，将另一些文件声明为 UploadFile 。"
   ]
  },
  {
   "cell_type": "code",
   "execution_count": null,
   "id": "0b0d2c46-78f9-4f30-aeb3-fc0789e85fa8",
   "metadata": {},
   "outputs": [],
   "source": [
    "# 你可以在路径操作中声明多个 File 和 Form 参数，但你不能同时声明 Body 字段，你期望以 JSON 形式接收这些字段，因为请求的正文将使用 multipart/form-data 而不是 application/json 进行编码。\n",
    "# 这不是 FastAPI 的限制，它是 HTTP 协议的一部分。"
   ]
  }
 ],
 "metadata": {
  "kernelspec": {
   "display_name": "Python 3 (ipykernel)",
   "language": "python",
   "name": "python3"
  },
  "language_info": {
   "codemirror_mode": {
    "name": "ipython",
    "version": 3
   },
   "file_extension": ".py",
   "mimetype": "text/x-python",
   "name": "python",
   "nbconvert_exporter": "python",
   "pygments_lexer": "ipython3",
   "version": "3.11.5"
  }
 },
 "nbformat": 4,
 "nbformat_minor": 5
}
